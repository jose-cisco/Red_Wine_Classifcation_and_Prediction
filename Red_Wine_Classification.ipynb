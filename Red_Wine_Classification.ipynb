{
  "nbformat": 4,
  "nbformat_minor": 0,
  "metadata": {
    "colab": {
      "provenance": []
    },
    "kernelspec": {
      "name": "python3",
      "display_name": "Python 3"
    },
    "language_info": {
      "name": "python"
    }
  },
  "cells": [
    {
      "cell_type": "code",
      "execution_count": null,
      "metadata": {
        "id": "CKDG3wpqsS99"
      },
      "outputs": [],
      "source": [
        "import pandas as pd\n",
        "import numpy as np\n",
        "import tensorflow as tf\n",
        "import matplotlib.pyplot as plt\n",
        "import seaborn as sb\n",
        "from sklearn.preprocessing import StandardScaler, LabelEncoder"
      ]
    },
    {
      "cell_type": "code",
      "source": [
        "df = pd.read_csv(\"https://archive.ics.uci.edu/ml/machine-learning-databases/wine-quality/winequality-red.csv\", sep=\";\")\n",
        "df.head()\n"
      ],
      "metadata": {
        "id": "xmVjLK40s5ZC",
        "colab": {
          "base_uri": "https://localhost:8080/",
          "height": 206
        },
        "outputId": "ad9262bd-e3fd-4215-c929-182d920373f9"
      },
      "execution_count": null,
      "outputs": [
        {
          "output_type": "execute_result",
          "data": {
            "text/plain": [
              "   fixed acidity  volatile acidity  citric acid  residual sugar  chlorides  \\\n",
              "0            7.4              0.70         0.00             1.9      0.076   \n",
              "1            7.8              0.88         0.00             2.6      0.098   \n",
              "2            7.8              0.76         0.04             2.3      0.092   \n",
              "3           11.2              0.28         0.56             1.9      0.075   \n",
              "4            7.4              0.70         0.00             1.9      0.076   \n",
              "\n",
              "   free sulfur dioxide  total sulfur dioxide  density    pH  sulphates  \\\n",
              "0                 11.0                  34.0   0.9978  3.51       0.56   \n",
              "1                 25.0                  67.0   0.9968  3.20       0.68   \n",
              "2                 15.0                  54.0   0.9970  3.26       0.65   \n",
              "3                 17.0                  60.0   0.9980  3.16       0.58   \n",
              "4                 11.0                  34.0   0.9978  3.51       0.56   \n",
              "\n",
              "   alcohol  quality  \n",
              "0      9.4        5  \n",
              "1      9.8        5  \n",
              "2      9.8        5  \n",
              "3      9.8        6  \n",
              "4      9.4        5  "
            ],
            "text/html": [
              "\n",
              "  <div id=\"df-4fce4f91-5785-41e4-aba0-c40b15c349f4\">\n",
              "    <div class=\"colab-df-container\">\n",
              "      <div>\n",
              "<style scoped>\n",
              "    .dataframe tbody tr th:only-of-type {\n",
              "        vertical-align: middle;\n",
              "    }\n",
              "\n",
              "    .dataframe tbody tr th {\n",
              "        vertical-align: top;\n",
              "    }\n",
              "\n",
              "    .dataframe thead th {\n",
              "        text-align: right;\n",
              "    }\n",
              "</style>\n",
              "<table border=\"1\" class=\"dataframe\">\n",
              "  <thead>\n",
              "    <tr style=\"text-align: right;\">\n",
              "      <th></th>\n",
              "      <th>fixed acidity</th>\n",
              "      <th>volatile acidity</th>\n",
              "      <th>citric acid</th>\n",
              "      <th>residual sugar</th>\n",
              "      <th>chlorides</th>\n",
              "      <th>free sulfur dioxide</th>\n",
              "      <th>total sulfur dioxide</th>\n",
              "      <th>density</th>\n",
              "      <th>pH</th>\n",
              "      <th>sulphates</th>\n",
              "      <th>alcohol</th>\n",
              "      <th>quality</th>\n",
              "    </tr>\n",
              "  </thead>\n",
              "  <tbody>\n",
              "    <tr>\n",
              "      <th>0</th>\n",
              "      <td>7.4</td>\n",
              "      <td>0.70</td>\n",
              "      <td>0.00</td>\n",
              "      <td>1.9</td>\n",
              "      <td>0.076</td>\n",
              "      <td>11.0</td>\n",
              "      <td>34.0</td>\n",
              "      <td>0.9978</td>\n",
              "      <td>3.51</td>\n",
              "      <td>0.56</td>\n",
              "      <td>9.4</td>\n",
              "      <td>5</td>\n",
              "    </tr>\n",
              "    <tr>\n",
              "      <th>1</th>\n",
              "      <td>7.8</td>\n",
              "      <td>0.88</td>\n",
              "      <td>0.00</td>\n",
              "      <td>2.6</td>\n",
              "      <td>0.098</td>\n",
              "      <td>25.0</td>\n",
              "      <td>67.0</td>\n",
              "      <td>0.9968</td>\n",
              "      <td>3.20</td>\n",
              "      <td>0.68</td>\n",
              "      <td>9.8</td>\n",
              "      <td>5</td>\n",
              "    </tr>\n",
              "    <tr>\n",
              "      <th>2</th>\n",
              "      <td>7.8</td>\n",
              "      <td>0.76</td>\n",
              "      <td>0.04</td>\n",
              "      <td>2.3</td>\n",
              "      <td>0.092</td>\n",
              "      <td>15.0</td>\n",
              "      <td>54.0</td>\n",
              "      <td>0.9970</td>\n",
              "      <td>3.26</td>\n",
              "      <td>0.65</td>\n",
              "      <td>9.8</td>\n",
              "      <td>5</td>\n",
              "    </tr>\n",
              "    <tr>\n",
              "      <th>3</th>\n",
              "      <td>11.2</td>\n",
              "      <td>0.28</td>\n",
              "      <td>0.56</td>\n",
              "      <td>1.9</td>\n",
              "      <td>0.075</td>\n",
              "      <td>17.0</td>\n",
              "      <td>60.0</td>\n",
              "      <td>0.9980</td>\n",
              "      <td>3.16</td>\n",
              "      <td>0.58</td>\n",
              "      <td>9.8</td>\n",
              "      <td>6</td>\n",
              "    </tr>\n",
              "    <tr>\n",
              "      <th>4</th>\n",
              "      <td>7.4</td>\n",
              "      <td>0.70</td>\n",
              "      <td>0.00</td>\n",
              "      <td>1.9</td>\n",
              "      <td>0.076</td>\n",
              "      <td>11.0</td>\n",
              "      <td>34.0</td>\n",
              "      <td>0.9978</td>\n",
              "      <td>3.51</td>\n",
              "      <td>0.56</td>\n",
              "      <td>9.4</td>\n",
              "      <td>5</td>\n",
              "    </tr>\n",
              "  </tbody>\n",
              "</table>\n",
              "</div>\n",
              "      <button class=\"colab-df-convert\" onclick=\"convertToInteractive('df-4fce4f91-5785-41e4-aba0-c40b15c349f4')\"\n",
              "              title=\"Convert this dataframe to an interactive table.\"\n",
              "              style=\"display:none;\">\n",
              "        \n",
              "  <svg xmlns=\"http://www.w3.org/2000/svg\" height=\"24px\"viewBox=\"0 0 24 24\"\n",
              "       width=\"24px\">\n",
              "    <path d=\"M0 0h24v24H0V0z\" fill=\"none\"/>\n",
              "    <path d=\"M18.56 5.44l.94 2.06.94-2.06 2.06-.94-2.06-.94-.94-2.06-.94 2.06-2.06.94zm-11 1L8.5 8.5l.94-2.06 2.06-.94-2.06-.94L8.5 2.5l-.94 2.06-2.06.94zm10 10l.94 2.06.94-2.06 2.06-.94-2.06-.94-.94-2.06-.94 2.06-2.06.94z\"/><path d=\"M17.41 7.96l-1.37-1.37c-.4-.4-.92-.59-1.43-.59-.52 0-1.04.2-1.43.59L10.3 9.45l-7.72 7.72c-.78.78-.78 2.05 0 2.83L4 21.41c.39.39.9.59 1.41.59.51 0 1.02-.2 1.41-.59l7.78-7.78 2.81-2.81c.8-.78.8-2.07 0-2.86zM5.41 20L4 18.59l7.72-7.72 1.47 1.35L5.41 20z\"/>\n",
              "  </svg>\n",
              "      </button>\n",
              "      \n",
              "  <style>\n",
              "    .colab-df-container {\n",
              "      display:flex;\n",
              "      flex-wrap:wrap;\n",
              "      gap: 12px;\n",
              "    }\n",
              "\n",
              "    .colab-df-convert {\n",
              "      background-color: #E8F0FE;\n",
              "      border: none;\n",
              "      border-radius: 50%;\n",
              "      cursor: pointer;\n",
              "      display: none;\n",
              "      fill: #1967D2;\n",
              "      height: 32px;\n",
              "      padding: 0 0 0 0;\n",
              "      width: 32px;\n",
              "    }\n",
              "\n",
              "    .colab-df-convert:hover {\n",
              "      background-color: #E2EBFA;\n",
              "      box-shadow: 0px 1px 2px rgba(60, 64, 67, 0.3), 0px 1px 3px 1px rgba(60, 64, 67, 0.15);\n",
              "      fill: #174EA6;\n",
              "    }\n",
              "\n",
              "    [theme=dark] .colab-df-convert {\n",
              "      background-color: #3B4455;\n",
              "      fill: #D2E3FC;\n",
              "    }\n",
              "\n",
              "    [theme=dark] .colab-df-convert:hover {\n",
              "      background-color: #434B5C;\n",
              "      box-shadow: 0px 1px 3px 1px rgba(0, 0, 0, 0.15);\n",
              "      filter: drop-shadow(0px 1px 2px rgba(0, 0, 0, 0.3));\n",
              "      fill: #FFFFFF;\n",
              "    }\n",
              "  </style>\n",
              "\n",
              "      <script>\n",
              "        const buttonEl =\n",
              "          document.querySelector('#df-4fce4f91-5785-41e4-aba0-c40b15c349f4 button.colab-df-convert');\n",
              "        buttonEl.style.display =\n",
              "          google.colab.kernel.accessAllowed ? 'block' : 'none';\n",
              "\n",
              "        async function convertToInteractive(key) {\n",
              "          const element = document.querySelector('#df-4fce4f91-5785-41e4-aba0-c40b15c349f4');\n",
              "          const dataTable =\n",
              "            await google.colab.kernel.invokeFunction('convertToInteractive',\n",
              "                                                     [key], {});\n",
              "          if (!dataTable) return;\n",
              "\n",
              "          const docLinkHtml = 'Like what you see? Visit the ' +\n",
              "            '<a target=\"_blank\" href=https://colab.research.google.com/notebooks/data_table.ipynb>data table notebook</a>'\n",
              "            + ' to learn more about interactive tables.';\n",
              "          element.innerHTML = '';\n",
              "          dataTable['output_type'] = 'display_data';\n",
              "          await google.colab.output.renderOutput(dataTable, element);\n",
              "          const docLink = document.createElement('div');\n",
              "          docLink.innerHTML = docLinkHtml;\n",
              "          element.appendChild(docLink);\n",
              "        }\n",
              "      </script>\n",
              "    </div>\n",
              "  </div>\n",
              "  "
            ]
          },
          "metadata": {},
          "execution_count": 3
        }
      ]
    },
    {
      "cell_type": "code",
      "source": [
        "df.shape"
      ],
      "metadata": {
        "colab": {
          "base_uri": "https://localhost:8080/"
        },
        "id": "ft1XzhLjy8Uo",
        "outputId": "51ecff53-d904-4eb6-ceee-4b7f94dede58"
      },
      "execution_count": null,
      "outputs": [
        {
          "output_type": "execute_result",
          "data": {
            "text/plain": [
              "(1599, 12)"
            ]
          },
          "metadata": {},
          "execution_count": 4
        }
      ]
    },
    {
      "cell_type": "code",
      "source": [
        "df.isnull().any()"
      ],
      "metadata": {
        "id": "vF6PFjUZwzJJ",
        "outputId": "b0b742ee-7963-43db-967f-5f0b9ad7b2f7",
        "colab": {
          "base_uri": "https://localhost:8080/"
        }
      },
      "execution_count": null,
      "outputs": [
        {
          "output_type": "execute_result",
          "data": {
            "text/plain": [
              "fixed acidity           False\n",
              "volatile acidity        False\n",
              "citric acid             False\n",
              "residual sugar          False\n",
              "chlorides               False\n",
              "free sulfur dioxide     False\n",
              "total sulfur dioxide    False\n",
              "density                 False\n",
              "pH                      False\n",
              "sulphates               False\n",
              "alcohol                 False\n",
              "quality                 False\n",
              "dtype: bool"
            ]
          },
          "metadata": {},
          "execution_count": 5
        }
      ]
    },
    {
      "cell_type": "code",
      "source": [
        "df.describe()"
      ],
      "metadata": {
        "colab": {
          "base_uri": "https://localhost:8080/",
          "height": 300
        },
        "id": "ge-AxLS-y-A4",
        "outputId": "249cb506-b885-4648-dfa5-24b7f487c9bf"
      },
      "execution_count": null,
      "outputs": [
        {
          "output_type": "execute_result",
          "data": {
            "text/plain": [
              "       fixed acidity  volatile acidity  citric acid  residual sugar  \\\n",
              "count    1599.000000       1599.000000  1599.000000     1599.000000   \n",
              "mean        8.319637          0.527821     0.270976        2.538806   \n",
              "std         1.741096          0.179060     0.194801        1.409928   \n",
              "min         4.600000          0.120000     0.000000        0.900000   \n",
              "25%         7.100000          0.390000     0.090000        1.900000   \n",
              "50%         7.900000          0.520000     0.260000        2.200000   \n",
              "75%         9.200000          0.640000     0.420000        2.600000   \n",
              "max        15.900000          1.580000     1.000000       15.500000   \n",
              "\n",
              "         chlorides  free sulfur dioxide  total sulfur dioxide      density  \\\n",
              "count  1599.000000          1599.000000           1599.000000  1599.000000   \n",
              "mean      0.087467            15.874922             46.467792     0.996747   \n",
              "std       0.047065            10.460157             32.895324     0.001887   \n",
              "min       0.012000             1.000000              6.000000     0.990070   \n",
              "25%       0.070000             7.000000             22.000000     0.995600   \n",
              "50%       0.079000            14.000000             38.000000     0.996750   \n",
              "75%       0.090000            21.000000             62.000000     0.997835   \n",
              "max       0.611000            72.000000            289.000000     1.003690   \n",
              "\n",
              "                pH    sulphates      alcohol      quality  \n",
              "count  1599.000000  1599.000000  1599.000000  1599.000000  \n",
              "mean      3.311113     0.658149    10.422983     5.636023  \n",
              "std       0.154386     0.169507     1.065668     0.807569  \n",
              "min       2.740000     0.330000     8.400000     3.000000  \n",
              "25%       3.210000     0.550000     9.500000     5.000000  \n",
              "50%       3.310000     0.620000    10.200000     6.000000  \n",
              "75%       3.400000     0.730000    11.100000     6.000000  \n",
              "max       4.010000     2.000000    14.900000     8.000000  "
            ],
            "text/html": [
              "\n",
              "  <div id=\"df-9e119ade-f7a8-4beb-8168-66ccf8fde479\">\n",
              "    <div class=\"colab-df-container\">\n",
              "      <div>\n",
              "<style scoped>\n",
              "    .dataframe tbody tr th:only-of-type {\n",
              "        vertical-align: middle;\n",
              "    }\n",
              "\n",
              "    .dataframe tbody tr th {\n",
              "        vertical-align: top;\n",
              "    }\n",
              "\n",
              "    .dataframe thead th {\n",
              "        text-align: right;\n",
              "    }\n",
              "</style>\n",
              "<table border=\"1\" class=\"dataframe\">\n",
              "  <thead>\n",
              "    <tr style=\"text-align: right;\">\n",
              "      <th></th>\n",
              "      <th>fixed acidity</th>\n",
              "      <th>volatile acidity</th>\n",
              "      <th>citric acid</th>\n",
              "      <th>residual sugar</th>\n",
              "      <th>chlorides</th>\n",
              "      <th>free sulfur dioxide</th>\n",
              "      <th>total sulfur dioxide</th>\n",
              "      <th>density</th>\n",
              "      <th>pH</th>\n",
              "      <th>sulphates</th>\n",
              "      <th>alcohol</th>\n",
              "      <th>quality</th>\n",
              "    </tr>\n",
              "  </thead>\n",
              "  <tbody>\n",
              "    <tr>\n",
              "      <th>count</th>\n",
              "      <td>1599.000000</td>\n",
              "      <td>1599.000000</td>\n",
              "      <td>1599.000000</td>\n",
              "      <td>1599.000000</td>\n",
              "      <td>1599.000000</td>\n",
              "      <td>1599.000000</td>\n",
              "      <td>1599.000000</td>\n",
              "      <td>1599.000000</td>\n",
              "      <td>1599.000000</td>\n",
              "      <td>1599.000000</td>\n",
              "      <td>1599.000000</td>\n",
              "      <td>1599.000000</td>\n",
              "    </tr>\n",
              "    <tr>\n",
              "      <th>mean</th>\n",
              "      <td>8.319637</td>\n",
              "      <td>0.527821</td>\n",
              "      <td>0.270976</td>\n",
              "      <td>2.538806</td>\n",
              "      <td>0.087467</td>\n",
              "      <td>15.874922</td>\n",
              "      <td>46.467792</td>\n",
              "      <td>0.996747</td>\n",
              "      <td>3.311113</td>\n",
              "      <td>0.658149</td>\n",
              "      <td>10.422983</td>\n",
              "      <td>5.636023</td>\n",
              "    </tr>\n",
              "    <tr>\n",
              "      <th>std</th>\n",
              "      <td>1.741096</td>\n",
              "      <td>0.179060</td>\n",
              "      <td>0.194801</td>\n",
              "      <td>1.409928</td>\n",
              "      <td>0.047065</td>\n",
              "      <td>10.460157</td>\n",
              "      <td>32.895324</td>\n",
              "      <td>0.001887</td>\n",
              "      <td>0.154386</td>\n",
              "      <td>0.169507</td>\n",
              "      <td>1.065668</td>\n",
              "      <td>0.807569</td>\n",
              "    </tr>\n",
              "    <tr>\n",
              "      <th>min</th>\n",
              "      <td>4.600000</td>\n",
              "      <td>0.120000</td>\n",
              "      <td>0.000000</td>\n",
              "      <td>0.900000</td>\n",
              "      <td>0.012000</td>\n",
              "      <td>1.000000</td>\n",
              "      <td>6.000000</td>\n",
              "      <td>0.990070</td>\n",
              "      <td>2.740000</td>\n",
              "      <td>0.330000</td>\n",
              "      <td>8.400000</td>\n",
              "      <td>3.000000</td>\n",
              "    </tr>\n",
              "    <tr>\n",
              "      <th>25%</th>\n",
              "      <td>7.100000</td>\n",
              "      <td>0.390000</td>\n",
              "      <td>0.090000</td>\n",
              "      <td>1.900000</td>\n",
              "      <td>0.070000</td>\n",
              "      <td>7.000000</td>\n",
              "      <td>22.000000</td>\n",
              "      <td>0.995600</td>\n",
              "      <td>3.210000</td>\n",
              "      <td>0.550000</td>\n",
              "      <td>9.500000</td>\n",
              "      <td>5.000000</td>\n",
              "    </tr>\n",
              "    <tr>\n",
              "      <th>50%</th>\n",
              "      <td>7.900000</td>\n",
              "      <td>0.520000</td>\n",
              "      <td>0.260000</td>\n",
              "      <td>2.200000</td>\n",
              "      <td>0.079000</td>\n",
              "      <td>14.000000</td>\n",
              "      <td>38.000000</td>\n",
              "      <td>0.996750</td>\n",
              "      <td>3.310000</td>\n",
              "      <td>0.620000</td>\n",
              "      <td>10.200000</td>\n",
              "      <td>6.000000</td>\n",
              "    </tr>\n",
              "    <tr>\n",
              "      <th>75%</th>\n",
              "      <td>9.200000</td>\n",
              "      <td>0.640000</td>\n",
              "      <td>0.420000</td>\n",
              "      <td>2.600000</td>\n",
              "      <td>0.090000</td>\n",
              "      <td>21.000000</td>\n",
              "      <td>62.000000</td>\n",
              "      <td>0.997835</td>\n",
              "      <td>3.400000</td>\n",
              "      <td>0.730000</td>\n",
              "      <td>11.100000</td>\n",
              "      <td>6.000000</td>\n",
              "    </tr>\n",
              "    <tr>\n",
              "      <th>max</th>\n",
              "      <td>15.900000</td>\n",
              "      <td>1.580000</td>\n",
              "      <td>1.000000</td>\n",
              "      <td>15.500000</td>\n",
              "      <td>0.611000</td>\n",
              "      <td>72.000000</td>\n",
              "      <td>289.000000</td>\n",
              "      <td>1.003690</td>\n",
              "      <td>4.010000</td>\n",
              "      <td>2.000000</td>\n",
              "      <td>14.900000</td>\n",
              "      <td>8.000000</td>\n",
              "    </tr>\n",
              "  </tbody>\n",
              "</table>\n",
              "</div>\n",
              "      <button class=\"colab-df-convert\" onclick=\"convertToInteractive('df-9e119ade-f7a8-4beb-8168-66ccf8fde479')\"\n",
              "              title=\"Convert this dataframe to an interactive table.\"\n",
              "              style=\"display:none;\">\n",
              "        \n",
              "  <svg xmlns=\"http://www.w3.org/2000/svg\" height=\"24px\"viewBox=\"0 0 24 24\"\n",
              "       width=\"24px\">\n",
              "    <path d=\"M0 0h24v24H0V0z\" fill=\"none\"/>\n",
              "    <path d=\"M18.56 5.44l.94 2.06.94-2.06 2.06-.94-2.06-.94-.94-2.06-.94 2.06-2.06.94zm-11 1L8.5 8.5l.94-2.06 2.06-.94-2.06-.94L8.5 2.5l-.94 2.06-2.06.94zm10 10l.94 2.06.94-2.06 2.06-.94-2.06-.94-.94-2.06-.94 2.06-2.06.94z\"/><path d=\"M17.41 7.96l-1.37-1.37c-.4-.4-.92-.59-1.43-.59-.52 0-1.04.2-1.43.59L10.3 9.45l-7.72 7.72c-.78.78-.78 2.05 0 2.83L4 21.41c.39.39.9.59 1.41.59.51 0 1.02-.2 1.41-.59l7.78-7.78 2.81-2.81c.8-.78.8-2.07 0-2.86zM5.41 20L4 18.59l7.72-7.72 1.47 1.35L5.41 20z\"/>\n",
              "  </svg>\n",
              "      </button>\n",
              "      \n",
              "  <style>\n",
              "    .colab-df-container {\n",
              "      display:flex;\n",
              "      flex-wrap:wrap;\n",
              "      gap: 12px;\n",
              "    }\n",
              "\n",
              "    .colab-df-convert {\n",
              "      background-color: #E8F0FE;\n",
              "      border: none;\n",
              "      border-radius: 50%;\n",
              "      cursor: pointer;\n",
              "      display: none;\n",
              "      fill: #1967D2;\n",
              "      height: 32px;\n",
              "      padding: 0 0 0 0;\n",
              "      width: 32px;\n",
              "    }\n",
              "\n",
              "    .colab-df-convert:hover {\n",
              "      background-color: #E2EBFA;\n",
              "      box-shadow: 0px 1px 2px rgba(60, 64, 67, 0.3), 0px 1px 3px 1px rgba(60, 64, 67, 0.15);\n",
              "      fill: #174EA6;\n",
              "    }\n",
              "\n",
              "    [theme=dark] .colab-df-convert {\n",
              "      background-color: #3B4455;\n",
              "      fill: #D2E3FC;\n",
              "    }\n",
              "\n",
              "    [theme=dark] .colab-df-convert:hover {\n",
              "      background-color: #434B5C;\n",
              "      box-shadow: 0px 1px 3px 1px rgba(0, 0, 0, 0.15);\n",
              "      filter: drop-shadow(0px 1px 2px rgba(0, 0, 0, 0.3));\n",
              "      fill: #FFFFFF;\n",
              "    }\n",
              "  </style>\n",
              "\n",
              "      <script>\n",
              "        const buttonEl =\n",
              "          document.querySelector('#df-9e119ade-f7a8-4beb-8168-66ccf8fde479 button.colab-df-convert');\n",
              "        buttonEl.style.display =\n",
              "          google.colab.kernel.accessAllowed ? 'block' : 'none';\n",
              "\n",
              "        async function convertToInteractive(key) {\n",
              "          const element = document.querySelector('#df-9e119ade-f7a8-4beb-8168-66ccf8fde479');\n",
              "          const dataTable =\n",
              "            await google.colab.kernel.invokeFunction('convertToInteractive',\n",
              "                                                     [key], {});\n",
              "          if (!dataTable) return;\n",
              "\n",
              "          const docLinkHtml = 'Like what you see? Visit the ' +\n",
              "            '<a target=\"_blank\" href=https://colab.research.google.com/notebooks/data_table.ipynb>data table notebook</a>'\n",
              "            + ' to learn more about interactive tables.';\n",
              "          element.innerHTML = '';\n",
              "          dataTable['output_type'] = 'display_data';\n",
              "          await google.colab.output.renderOutput(dataTable, element);\n",
              "          const docLink = document.createElement('div');\n",
              "          docLink.innerHTML = docLinkHtml;\n",
              "          element.appendChild(docLink);\n",
              "        }\n",
              "      </script>\n",
              "    </div>\n",
              "  </div>\n",
              "  "
            ]
          },
          "metadata": {},
          "execution_count": 6
        }
      ]
    },
    {
      "cell_type": "code",
      "source": [
        "df.dtypes"
      ],
      "metadata": {
        "colab": {
          "base_uri": "https://localhost:8080/"
        },
        "id": "4GMgbugozKdA",
        "outputId": "ed0770e8-e332-474a-cc2c-d5d2e1b48074"
      },
      "execution_count": null,
      "outputs": [
        {
          "output_type": "execute_result",
          "data": {
            "text/plain": [
              "fixed acidity           float64\n",
              "volatile acidity        float64\n",
              "citric acid             float64\n",
              "residual sugar          float64\n",
              "chlorides               float64\n",
              "free sulfur dioxide     float64\n",
              "total sulfur dioxide    float64\n",
              "density                 float64\n",
              "pH                      float64\n",
              "sulphates               float64\n",
              "alcohol                 float64\n",
              "quality                   int64\n",
              "dtype: object"
            ]
          },
          "metadata": {},
          "execution_count": 7
        }
      ]
    },
    {
      "cell_type": "code",
      "source": [
        "df.hist(bins=20, figsize=(10, 10))\n",
        "plt.show()"
      ],
      "metadata": {
        "colab": {
          "base_uri": "https://localhost:8080/",
          "height": 607
        },
        "id": "76hAOb-lzNu_",
        "outputId": "f60f503f-6323-45ef-8ef2-187eeb8759d9"
      },
      "execution_count": null,
      "outputs": [
        {
          "output_type": "display_data",
          "data": {
            "text/plain": [
              "<Figure size 720x720 with 12 Axes>"
            ],
            "image/png": "[encoded data removed]"
          },
          "metadata": {
            "needs_background": "light"
          }
        }
      ]
    },
    {
      "cell_type": "code",
      "source": [
        "plt.bar(df['quality'], df['alcohol'])\n",
        "plt.xlabel('quality')\n",
        "plt.ylabel('alcohol')\n",
        "plt.show()"
      ],
      "metadata": {
        "colab": {
          "base_uri": "https://localhost:8080/",
          "height": 279
        },
        "id": "lrHVwPyt0D1_",
        "outputId": "582d54dc-73cf-4da0-eb53-c5a50ba35468"
      },
      "execution_count": null,
      "outputs": [
        {
          "output_type": "display_data",
          "data": {
            "text/plain": [
              "<Figure size 432x288 with 1 Axes>"
            ],
            "image/png": "[encoded data removed]"
          },
          "metadata": {
            "needs_background": "light"
          }
        }
      ]
    },
    {
      "cell_type": "code",
      "source": [
        "plt.figure(figsize=(12, 12))\n",
        "sb.heatmap(df.corr() > 0.7, annot=True, cbar=False)\n",
        "plt.show()"
      ],
      "metadata": {
        "colab": {
          "base_uri": "https://localhost:8080/",
          "height": 784
        },
        "id": "jbqVqtOD0PNp",
        "outputId": "f1944c99-7b63-4215-8cc6-724fc9b5bb0d"
      },
      "execution_count": null,
      "outputs": [
        {
          "output_type": "display_data",
          "data": {
            "text/plain": [
              "<Figure size 864x864 with 1 Axes>"
            ],
            "image/png": "[encoded data removed]"
          },
          "metadata": {
            "needs_background": "light"
          }
        }
      ]
    },
    {
      "cell_type": "code",
      "source": [
        "df[\"quality\"].unique()"
      ],
      "metadata": {
        "colab": {
          "base_uri": "https://localhost:8080/"
        },
        "id": "T45kq_MSHYLd",
        "outputId": "dc05e374-f9e4-4ba5-8d4a-242d67797ad9"
      },
      "execution_count": null,
      "outputs": [
        {
          "output_type": "execute_result",
          "data": {
            "text/plain": [
              "array([5, 6, 7, 4, 8, 3])"
            ]
          },
          "metadata": {},
          "execution_count": 11
        }
      ]
    },
    {
      "cell_type": "code",
      "source": [
        "from sklearn.model_selection import train_test_split\n",
        "X = df.drop(columns=\"quality\", axis = 1)\n",
        "y = df['quality'].apply(lambda y_value: 1 if y_value >= 7 else 0)\n",
        "\n",
        "x_train, x_test, y_train, y_test = train_test_split(X, y, test_size=0.1, random_state=40)\n",
        "\n",
        "norm = StandardScaler()\n",
        "x_train = norm.fit_transform(x_train)\n",
        "x_test = norm.transform(x_test)\n",
        "\n",
        "print(x_train.shape, x_test.shape, y_train.shape, y_test.shape)"
      ],
      "metadata": {
        "colab": {
          "base_uri": "https://localhost:8080/"
        },
        "id": "iaPpkNmF0Sc3",
        "outputId": "bf22dd48-bc01-4a1d-9c02-a0e79d3cdf76"
      },
      "execution_count": null,
      "outputs": [
        {
          "output_type": "stream",
          "name": "stdout",
          "text": [
            "(1439, 11) (160, 11) (1439,) (160,)\n"
          ]
        }
      ]
    },
    {
      "cell_type": "code",
      "source": [
        "import tensorflow as tf\n",
        "from tensorflow import keras\n",
        "\n",
        "model = keras.Sequential()\n",
        "model.add(tf.keras.layers.Dense(128, input_dim=11, activation='relu') )\n",
        "model.add(tf.keras.layers.Dense(64, activation='relu'))\n",
        "model.add(tf.keras.layers.Dense(32, activation='relu'))\n",
        "model.add(tf.keras.layers.Dense(1, activation='sigmoid'))\n",
        "\n",
        "model.compile(loss='binary_crossentropy',\n",
        "              optimizer=tf.keras.optimizers.Adam(learning_rate=0.001),\n",
        "              metrics=['accuracy'])\n",
        "\n",
        "\n",
        "hist=model.fit(x_train, y_train,batch_size=x_train.shape[0], epochs=100, validation_split=0.1, verbose=1)"
      ],
      "metadata": {
        "colab": {
          "base_uri": "https://localhost:8080/"
        },
        "id": "_Ke9vA0R9aH1",
        "outputId": "88971640-1376-432d-eb48-d8c252da1002"
      },
      "execution_count": null,
      "outputs": [
        {
          "output_type": "stream",
          "name": "stdout",
          "text": [
            "Epoch 1/100\n",
            "1/1 [==============================] - 1s 691ms/step - loss: 0.8600 - accuracy: 0.1367 - val_loss: 0.8151 - val_accuracy: 0.1319\n",
            "Epoch 2/100\n",
            "1/1 [==============================] - 0s 36ms/step - loss: 0.8032 - accuracy: 0.1506 - val_loss: 0.7629 - val_accuracy: 0.2083\n",
            "Epoch 3/100\n",
            "1/1 [==============================] - 0s 45ms/step - loss: 0.7546 - accuracy: 0.2046 - val_loss: 0.7189 - val_accuracy: 0.3403\n",
            "Epoch 4/100\n",
            "1/1 [==============================] - 0s 38ms/step - loss: 0.7137 - accuracy: 0.3467 - val_loss: 0.6814 - val_accuracy: 0.5694\n",
            "Epoch 5/100\n",
            "1/1 [==============================] - 0s 61ms/step - loss: 0.6795 - accuracy: 0.5629 - val_loss: 0.6496 - val_accuracy: 0.7361\n",
            "Epoch 6/100\n",
            "1/1 [==============================] - 0s 56ms/step - loss: 0.6506 - accuracy: 0.7459 - val_loss: 0.6227 - val_accuracy: 0.8403\n",
            "Epoch 7/100\n",
            "1/1 [==============================] - 0s 97ms/step - loss: 0.6255 - accuracy: 0.8456 - val_loss: 0.5987 - val_accuracy: 0.8681\n",
            "Epoch 8/100\n",
            "1/1 [==============================] - 0s 60ms/step - loss: 0.6033 - accuracy: 0.8625 - val_loss: 0.5768 - val_accuracy: 0.8750\n",
            "Epoch 9/100\n",
            "1/1 [==============================] - 0s 35ms/step - loss: 0.5834 - accuracy: 0.8633 - val_loss: 0.5566 - val_accuracy: 0.8750\n",
            "Epoch 10/100\n",
            "1/1 [==============================] - 0s 57ms/step - loss: 0.5649 - accuracy: 0.8649 - val_loss: 0.5377 - val_accuracy: 0.8750\n",
            "Epoch 11/100\n",
            "1/1 [==============================] - 0s 36ms/step - loss: 0.5479 - accuracy: 0.8649 - val_loss: 0.5201 - val_accuracy: 0.8750\n",
            "Epoch 12/100\n",
            "1/1 [==============================] - 0s 37ms/step - loss: 0.5322 - accuracy: 0.8649 - val_loss: 0.5037 - val_accuracy: 0.8750\n",
            "Epoch 13/100\n",
            "1/1 [==============================] - 0s 40ms/step - loss: 0.5175 - accuracy: 0.8649 - val_loss: 0.4882 - val_accuracy: 0.8750\n",
            "Epoch 14/100\n",
            "1/1 [==============================] - 0s 41ms/step - loss: 0.5038 - accuracy: 0.8649 - val_loss: 0.4735 - val_accuracy: 0.8750\n",
            "Epoch 15/100\n",
            "1/1 [==============================] - 0s 38ms/step - loss: 0.4908 - accuracy: 0.8649 - val_loss: 0.4596 - val_accuracy: 0.8750\n",
            "Epoch 16/100\n",
            "1/1 [==============================] - 0s 43ms/step - loss: 0.4786 - accuracy: 0.8649 - val_loss: 0.4467 - val_accuracy: 0.8750\n",
            "Epoch 17/100\n",
            "1/1 [==============================] - 0s 34ms/step - loss: 0.4670 - accuracy: 0.8649 - val_loss: 0.4345 - val_accuracy: 0.8750\n",
            "Epoch 18/100\n",
            "1/1 [==============================] - 0s 33ms/step - loss: 0.4560 - accuracy: 0.8649 - val_loss: 0.4229 - val_accuracy: 0.8750\n",
            "Epoch 19/100\n",
            "1/1 [==============================] - 0s 36ms/step - loss: 0.4456 - accuracy: 0.8649 - val_loss: 0.4118 - val_accuracy: 0.8750\n",
            "Epoch 20/100\n",
            "1/1 [==============================] - 0s 35ms/step - loss: 0.4357 - accuracy: 0.8649 - val_loss: 0.4012 - val_accuracy: 0.8750\n",
            "Epoch 21/100\n",
            "1/1 [==============================] - 0s 34ms/step - loss: 0.4263 - accuracy: 0.8649 - val_loss: 0.3912 - val_accuracy: 0.8750\n",
            "Epoch 22/100\n",
            "1/1 [==============================] - 0s 39ms/step - loss: 0.4172 - accuracy: 0.8649 - val_loss: 0.3817 - val_accuracy: 0.8750\n",
            "Epoch 23/100\n",
            "1/1 [==============================] - 0s 36ms/step - loss: 0.4085 - accuracy: 0.8649 - val_loss: 0.3724 - val_accuracy: 0.8750\n",
            "Epoch 24/100\n",
            "1/1 [==============================] - 0s 37ms/step - loss: 0.4002 - accuracy: 0.8649 - val_loss: 0.3636 - val_accuracy: 0.8750\n",
            "Epoch 25/100\n",
            "1/1 [==============================] - 0s 35ms/step - loss: 0.3921 - accuracy: 0.8649 - val_loss: 0.3551 - val_accuracy: 0.8750\n",
            "Epoch 26/100\n",
            "1/1 [==============================] - 0s 37ms/step - loss: 0.3843 - accuracy: 0.8649 - val_loss: 0.3470 - val_accuracy: 0.8750\n",
            "Epoch 27/100\n",
            "1/1 [==============================] - 0s 36ms/step - loss: 0.3766 - accuracy: 0.8649 - val_loss: 0.3393 - val_accuracy: 0.8750\n",
            "Epoch 28/100\n",
            "1/1 [==============================] - 0s 36ms/step - loss: 0.3693 - accuracy: 0.8649 - val_loss: 0.3318 - val_accuracy: 0.8750\n",
            "Epoch 29/100\n",
            "1/1 [==============================] - 0s 37ms/step - loss: 0.3621 - accuracy: 0.8649 - val_loss: 0.3246 - val_accuracy: 0.8750\n",
            "Epoch 30/100\n",
            "1/1 [==============================] - 0s 45ms/step - loss: 0.3552 - accuracy: 0.8649 - val_loss: 0.3178 - val_accuracy: 0.8750\n",
            "Epoch 31/100\n",
            "1/1 [==============================] - 0s 35ms/step - loss: 0.3487 - accuracy: 0.8649 - val_loss: 0.3113 - val_accuracy: 0.8750\n",
            "Epoch 32/100\n",
            "1/1 [==============================] - 0s 40ms/step - loss: 0.3426 - accuracy: 0.8649 - val_loss: 0.3054 - val_accuracy: 0.8750\n",
            "Epoch 33/100\n",
            "1/1 [==============================] - 0s 39ms/step - loss: 0.3368 - accuracy: 0.8649 - val_loss: 0.3003 - val_accuracy: 0.8750\n",
            "Epoch 34/100\n",
            "1/1 [==============================] - 0s 38ms/step - loss: 0.3314 - accuracy: 0.8664 - val_loss: 0.2956 - val_accuracy: 0.8819\n",
            "Epoch 35/100\n",
            "1/1 [==============================] - 0s 36ms/step - loss: 0.3264 - accuracy: 0.8695 - val_loss: 0.2914 - val_accuracy: 0.8819\n",
            "Epoch 36/100\n",
            "1/1 [==============================] - 0s 42ms/step - loss: 0.3218 - accuracy: 0.8741 - val_loss: 0.2877 - val_accuracy: 0.8889\n",
            "Epoch 37/100\n",
            "1/1 [==============================] - 0s 39ms/step - loss: 0.3175 - accuracy: 0.8772 - val_loss: 0.2842 - val_accuracy: 0.8750\n",
            "Epoch 38/100\n",
            "1/1 [==============================] - 0s 44ms/step - loss: 0.3135 - accuracy: 0.8795 - val_loss: 0.2811 - val_accuracy: 0.8681\n",
            "Epoch 39/100\n",
            "1/1 [==============================] - 0s 43ms/step - loss: 0.3099 - accuracy: 0.8803 - val_loss: 0.2784 - val_accuracy: 0.8681\n",
            "Epoch 40/100\n",
            "1/1 [==============================] - 0s 36ms/step - loss: 0.3066 - accuracy: 0.8811 - val_loss: 0.2760 - val_accuracy: 0.8750\n",
            "Epoch 41/100\n",
            "1/1 [==============================] - 0s 40ms/step - loss: 0.3035 - accuracy: 0.8795 - val_loss: 0.2740 - val_accuracy: 0.8750\n",
            "Epoch 42/100\n",
            "1/1 [==============================] - 0s 38ms/step - loss: 0.3006 - accuracy: 0.8772 - val_loss: 0.2722 - val_accuracy: 0.8819\n",
            "Epoch 43/100\n",
            "1/1 [==============================] - 0s 36ms/step - loss: 0.2979 - accuracy: 0.8772 - val_loss: 0.2707 - val_accuracy: 0.8819\n",
            "Epoch 44/100\n",
            "1/1 [==============================] - 0s 34ms/step - loss: 0.2954 - accuracy: 0.8741 - val_loss: 0.2693 - val_accuracy: 0.8889\n",
            "Epoch 45/100\n",
            "1/1 [==============================] - 0s 41ms/step - loss: 0.2931 - accuracy: 0.8741 - val_loss: 0.2682 - val_accuracy: 0.8819\n",
            "Epoch 46/100\n",
            "1/1 [==============================] - 0s 36ms/step - loss: 0.2909 - accuracy: 0.8764 - val_loss: 0.2673 - val_accuracy: 0.8889\n",
            "Epoch 47/100\n",
            "1/1 [==============================] - 0s 36ms/step - loss: 0.2889 - accuracy: 0.8772 - val_loss: 0.2666 - val_accuracy: 0.8889\n",
            "Epoch 48/100\n",
            "1/1 [==============================] - 0s 35ms/step - loss: 0.2869 - accuracy: 0.8780 - val_loss: 0.2660 - val_accuracy: 0.8889\n",
            "Epoch 49/100\n",
            "1/1 [==============================] - 0s 36ms/step - loss: 0.2850 - accuracy: 0.8772 - val_loss: 0.2656 - val_accuracy: 0.8889\n",
            "Epoch 50/100\n",
            "1/1 [==============================] - 0s 44ms/step - loss: 0.2833 - accuracy: 0.8764 - val_loss: 0.2654 - val_accuracy: 0.8889\n",
            "Epoch 51/100\n",
            "1/1 [==============================] - 0s 39ms/step - loss: 0.2816 - accuracy: 0.8811 - val_loss: 0.2652 - val_accuracy: 0.8819\n",
            "Epoch 52/100\n",
            "1/1 [==============================] - 0s 37ms/step - loss: 0.2800 - accuracy: 0.8803 - val_loss: 0.2652 - val_accuracy: 0.8819\n",
            "Epoch 53/100\n",
            "1/1 [==============================] - 0s 35ms/step - loss: 0.2785 - accuracy: 0.8803 - val_loss: 0.2652 - val_accuracy: 0.8819\n",
            "Epoch 54/100\n",
            "1/1 [==============================] - 0s 43ms/step - loss: 0.2771 - accuracy: 0.8780 - val_loss: 0.2654 - val_accuracy: 0.8819\n",
            "Epoch 55/100\n",
            "1/1 [==============================] - 0s 35ms/step - loss: 0.2757 - accuracy: 0.8788 - val_loss: 0.2656 - val_accuracy: 0.8819\n",
            "Epoch 56/100\n",
            "1/1 [==============================] - 0s 36ms/step - loss: 0.2745 - accuracy: 0.8772 - val_loss: 0.2660 - val_accuracy: 0.8819\n",
            "Epoch 57/100\n",
            "1/1 [==============================] - 0s 38ms/step - loss: 0.2733 - accuracy: 0.8795 - val_loss: 0.2663 - val_accuracy: 0.8889\n",
            "Epoch 58/100\n",
            "1/1 [==============================] - 0s 35ms/step - loss: 0.2723 - accuracy: 0.8772 - val_loss: 0.2668 - val_accuracy: 0.8889\n",
            "Epoch 59/100\n",
            "1/1 [==============================] - 0s 50ms/step - loss: 0.2713 - accuracy: 0.8772 - val_loss: 0.2673 - val_accuracy: 0.8819\n",
            "Epoch 60/100\n",
            "1/1 [==============================] - 0s 35ms/step - loss: 0.2703 - accuracy: 0.8780 - val_loss: 0.2677 - val_accuracy: 0.8819\n",
            "Epoch 61/100\n",
            "1/1 [==============================] - 0s 39ms/step - loss: 0.2693 - accuracy: 0.8788 - val_loss: 0.2682 - val_accuracy: 0.8819\n",
            "Epoch 62/100\n",
            "1/1 [==============================] - 0s 41ms/step - loss: 0.2683 - accuracy: 0.8780 - val_loss: 0.2686 - val_accuracy: 0.8819\n",
            "Epoch 63/100\n",
            "1/1 [==============================] - 0s 39ms/step - loss: 0.2674 - accuracy: 0.8764 - val_loss: 0.2690 - val_accuracy: 0.8819\n",
            "Epoch 64/100\n",
            "1/1 [==============================] - 0s 39ms/step - loss: 0.2664 - accuracy: 0.8780 - val_loss: 0.2694 - val_accuracy: 0.8819\n",
            "Epoch 65/100\n",
            "1/1 [==============================] - 0s 36ms/step - loss: 0.2655 - accuracy: 0.8780 - val_loss: 0.2696 - val_accuracy: 0.8819\n",
            "Epoch 66/100\n",
            "1/1 [==============================] - 0s 41ms/step - loss: 0.2646 - accuracy: 0.8788 - val_loss: 0.2698 - val_accuracy: 0.8819\n",
            "Epoch 67/100\n",
            "1/1 [==============================] - 0s 56ms/step - loss: 0.2638 - accuracy: 0.8803 - val_loss: 0.2699 - val_accuracy: 0.8819\n",
            "Epoch 68/100\n",
            "1/1 [==============================] - 0s 37ms/step - loss: 0.2630 - accuracy: 0.8811 - val_loss: 0.2699 - val_accuracy: 0.8819\n",
            "Epoch 69/100\n",
            "1/1 [==============================] - 0s 54ms/step - loss: 0.2622 - accuracy: 0.8811 - val_loss: 0.2698 - val_accuracy: 0.8819\n",
            "Epoch 70/100\n",
            "1/1 [==============================] - 0s 35ms/step - loss: 0.2614 - accuracy: 0.8842 - val_loss: 0.2697 - val_accuracy: 0.8819\n",
            "Epoch 71/100\n",
            "1/1 [==============================] - 0s 37ms/step - loss: 0.2606 - accuracy: 0.8849 - val_loss: 0.2696 - val_accuracy: 0.8889\n",
            "Epoch 72/100\n",
            "1/1 [==============================] - 0s 40ms/step - loss: 0.2598 - accuracy: 0.8849 - val_loss: 0.2694 - val_accuracy: 0.8889\n",
            "Epoch 73/100\n",
            "1/1 [==============================] - 0s 43ms/step - loss: 0.2590 - accuracy: 0.8849 - val_loss: 0.2692 - val_accuracy: 0.8889\n",
            "Epoch 74/100\n",
            "1/1 [==============================] - 0s 40ms/step - loss: 0.2583 - accuracy: 0.8857 - val_loss: 0.2690 - val_accuracy: 0.8889\n",
            "Epoch 75/100\n",
            "1/1 [==============================] - 0s 36ms/step - loss: 0.2575 - accuracy: 0.8857 - val_loss: 0.2687 - val_accuracy: 0.8889\n",
            "Epoch 76/100\n",
            "1/1 [==============================] - 0s 54ms/step - loss: 0.2568 - accuracy: 0.8880 - val_loss: 0.2684 - val_accuracy: 0.8889\n",
            "Epoch 77/100\n",
            "1/1 [==============================] - 0s 38ms/step - loss: 0.2560 - accuracy: 0.8880 - val_loss: 0.2681 - val_accuracy: 0.8889\n",
            "Epoch 78/100\n",
            "1/1 [==============================] - 0s 35ms/step - loss: 0.2552 - accuracy: 0.8873 - val_loss: 0.2677 - val_accuracy: 0.8889\n",
            "Epoch 79/100\n",
            "1/1 [==============================] - 0s 56ms/step - loss: 0.2545 - accuracy: 0.8873 - val_loss: 0.2673 - val_accuracy: 0.8889\n",
            "Epoch 80/100\n",
            "1/1 [==============================] - 0s 36ms/step - loss: 0.2538 - accuracy: 0.8880 - val_loss: 0.2670 - val_accuracy: 0.8889\n",
            "Epoch 81/100\n",
            "1/1 [==============================] - 0s 37ms/step - loss: 0.2530 - accuracy: 0.8880 - val_loss: 0.2666 - val_accuracy: 0.8819\n",
            "Epoch 82/100\n",
            "1/1 [==============================] - 0s 37ms/step - loss: 0.2523 - accuracy: 0.8880 - val_loss: 0.2663 - val_accuracy: 0.8819\n",
            "Epoch 83/100\n",
            "1/1 [==============================] - 0s 42ms/step - loss: 0.2516 - accuracy: 0.8880 - val_loss: 0.2660 - val_accuracy: 0.8819\n",
            "Epoch 84/100\n",
            "1/1 [==============================] - 0s 42ms/step - loss: 0.2508 - accuracy: 0.8880 - val_loss: 0.2657 - val_accuracy: 0.8819\n",
            "Epoch 85/100\n",
            "1/1 [==============================] - 0s 48ms/step - loss: 0.2501 - accuracy: 0.8903 - val_loss: 0.2654 - val_accuracy: 0.8819\n",
            "Epoch 86/100\n",
            "1/1 [==============================] - 0s 36ms/step - loss: 0.2494 - accuracy: 0.8903 - val_loss: 0.2651 - val_accuracy: 0.8819\n",
            "Epoch 87/100\n",
            "1/1 [==============================] - 0s 37ms/step - loss: 0.2487 - accuracy: 0.8919 - val_loss: 0.2649 - val_accuracy: 0.8819\n",
            "Epoch 88/100\n",
            "1/1 [==============================] - 0s 37ms/step - loss: 0.2479 - accuracy: 0.8919 - val_loss: 0.2647 - val_accuracy: 0.8819\n",
            "Epoch 89/100\n",
            "1/1 [==============================] - 0s 36ms/step - loss: 0.2472 - accuracy: 0.8919 - val_loss: 0.2645 - val_accuracy: 0.8819\n",
            "Epoch 90/100\n",
            "1/1 [==============================] - 0s 40ms/step - loss: 0.2465 - accuracy: 0.8919 - val_loss: 0.2643 - val_accuracy: 0.8819\n",
            "Epoch 91/100\n",
            "1/1 [==============================] - 0s 37ms/step - loss: 0.2458 - accuracy: 0.8919 - val_loss: 0.2642 - val_accuracy: 0.8819\n",
            "Epoch 92/100\n",
            "1/1 [==============================] - 0s 57ms/step - loss: 0.2450 - accuracy: 0.8927 - val_loss: 0.2642 - val_accuracy: 0.8819\n",
            "Epoch 93/100\n",
            "1/1 [==============================] - 0s 40ms/step - loss: 0.2443 - accuracy: 0.8927 - val_loss: 0.2641 - val_accuracy: 0.8819\n",
            "Epoch 94/100\n",
            "1/1 [==============================] - 0s 38ms/step - loss: 0.2436 - accuracy: 0.8927 - val_loss: 0.2641 - val_accuracy: 0.8819\n",
            "Epoch 95/100\n",
            "1/1 [==============================] - 0s 37ms/step - loss: 0.2429 - accuracy: 0.8927 - val_loss: 0.2641 - val_accuracy: 0.8819\n",
            "Epoch 96/100\n",
            "1/1 [==============================] - 0s 40ms/step - loss: 0.2422 - accuracy: 0.8934 - val_loss: 0.2641 - val_accuracy: 0.8819\n",
            "Epoch 97/100\n",
            "1/1 [==============================] - 0s 36ms/step - loss: 0.2415 - accuracy: 0.8934 - val_loss: 0.2640 - val_accuracy: 0.8819\n",
            "Epoch 98/100\n",
            "1/1 [==============================] - 0s 40ms/step - loss: 0.2408 - accuracy: 0.8934 - val_loss: 0.2640 - val_accuracy: 0.8819\n",
            "Epoch 99/100\n",
            "1/1 [==============================] - 0s 36ms/step - loss: 0.2401 - accuracy: 0.8934 - val_loss: 0.2640 - val_accuracy: 0.8819\n",
            "Epoch 100/100\n",
            "1/1 [==============================] - 0s 36ms/step - loss: 0.2394 - accuracy: 0.8934 - val_loss: 0.2640 - val_accuracy: 0.8750\n"
          ]
        }
      ]
    },
    {
      "cell_type": "code",
      "source": [
        "plt.plot(hist.history[\"loss\"], label=\"loss\")\n",
        "plt.plot(hist.history[\"val_loss\"], label=\"val_loss\")\n",
        "plt.legend()\n",
        "plt.show()"
      ],
      "metadata": {
        "colab": {
          "base_uri": "https://localhost:8080/",
          "height": 265
        },
        "id": "GGNAI0LCBVcm",
        "outputId": "524a1456-60e3-4039-8770-738449af3624"
      },
      "execution_count": null,
      "outputs": [
        {
          "output_type": "display_data",
          "data": {
            "text/plain": [
              "<Figure size 432x288 with 1 Axes>"
            ],
            "image/png": "[encoded data removed]"
          },
          "metadata": {
            "needs_background": "light"
          }
        }
      ]
    },
    {
      "cell_type": "code",
      "source": [
        "result = model.evaluate(x_test, y_test)\n",
        "print(model.metrics_names)\n",
        "result"
      ],
      "metadata": {
        "colab": {
          "base_uri": "https://localhost:8080/"
        },
        "id": "vjo0Bjg_Bph8",
        "outputId": "c4a59285-1bf6-4e62-8a03-1b8a6c46a889"
      },
      "execution_count": null,
      "outputs": [
        {
          "output_type": "stream",
          "name": "stdout",
          "text": [
            "5/5 [==============================] - 0s 2ms/step - loss: 0.2393 - accuracy: 0.8875\n",
            "['loss', 'accuracy']\n"
          ]
        },
        {
          "output_type": "execute_result",
          "data": {
            "text/plain": [
              "[0.2393454760313034, 0.887499988079071]"
            ]
          },
          "metadata": {},
          "execution_count": 43
        }
      ]
    }
  ]
}